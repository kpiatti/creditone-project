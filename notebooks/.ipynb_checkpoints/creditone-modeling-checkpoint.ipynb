{
 "cells": [
  {
   "cell_type": "markdown",
   "metadata": {},
   "source": [
    "# Imports "
   ]
  },
  {
   "cell_type": "markdown",
   "metadata": {},
   "source": [
    "## Packages"
   ]
  },
  {
   "cell_type": "code",
   "execution_count": 1,
   "metadata": {},
   "outputs": [],
   "source": [
    "import pandas as pd\n",
    "import numpy as np\n",
    "import matplotlib.pyplot as plt\n",
    "#the inline magic line is needed to make some data visualizations come out right when you are using jupyter notebooks\n",
    "%matplotlib inline \n",
    "import seaborn as sns\n",
    "\n",
    "from math import sqrt"
   ]
  },
  {
   "cell_type": "code",
   "execution_count": 2,
   "metadata": {},
   "outputs": [
    {
     "data": {
      "text/plain": [
       "'sklearn imports from classification problem in course 1'"
      ]
     },
     "execution_count": 2,
     "metadata": {},
     "output_type": "execute_result"
    }
   ],
   "source": [
    "#ML algorithms (estimators)\n",
    "from sklearn.ensemble import RandomForestRegressor\n",
    "from sklearn.linear_model import LinearRegression\n",
    "from sklearn.svm import SVR\n",
    "from sklearn import linear_model\n",
    "\n",
    "#model metrics\n",
    "from sklearn.metrics import mean_squared_error\n",
    "from sklearn.metrics import r2_score\n",
    "from sklearn.model_selection import cross_val_score\n",
    "\n",
    "#cross validation\n",
    "from sklearn.model_selection import train_test_split\n",
    "\n",
    "\"\"\"sklearn imports from classification problem in course 1\"\"\"\n",
    "# from sklearn.model_selection import train_test_split\n",
    "# from sklearn import metrics\n",
    "# from sklearn.tree import DecisionTreeClassifier\n",
    "# from sklearn.metrics import accuracy_score, classification_report"
   ]
  },
  {
   "cell_type": "markdown",
   "metadata": {},
   "source": [
    "## Import & Verify Data"
   ]
  },
  {
   "cell_type": "code",
   "execution_count": 3,
   "metadata": {},
   "outputs": [
    {
     "data": {
      "text/html": [
       "<div>\n",
       "<style scoped>\n",
       "    .dataframe tbody tr th:only-of-type {\n",
       "        vertical-align: middle;\n",
       "    }\n",
       "\n",
       "    .dataframe tbody tr th {\n",
       "        vertical-align: top;\n",
       "    }\n",
       "\n",
       "    .dataframe thead th {\n",
       "        text-align: right;\n",
       "    }\n",
       "</style>\n",
       "<table border=\"1\" class=\"dataframe\">\n",
       "  <thead>\n",
       "    <tr style=\"text-align: right;\">\n",
       "      <th></th>\n",
       "      <th>ID</th>\n",
       "      <th>SEX</th>\n",
       "      <th>AGE</th>\n",
       "      <th>LIMIT_BAL</th>\n",
       "      <th>bill_ap</th>\n",
       "      <th>bill_m</th>\n",
       "      <th>bill_ju</th>\n",
       "      <th>bill_jy</th>\n",
       "      <th>bill_ag</th>\n",
       "      <th>bill_s</th>\n",
       "      <th>...</th>\n",
       "      <th>pay_s</th>\n",
       "      <th>DEFAULT</th>\n",
       "      <th>edu_graduate school</th>\n",
       "      <th>edu_high school</th>\n",
       "      <th>edu_other</th>\n",
       "      <th>edu_university</th>\n",
       "      <th>mar_0</th>\n",
       "      <th>mar_1</th>\n",
       "      <th>mar_2</th>\n",
       "      <th>mar_3</th>\n",
       "    </tr>\n",
       "  </thead>\n",
       "  <tbody>\n",
       "    <tr>\n",
       "      <th>0</th>\n",
       "      <td>1</td>\n",
       "      <td>0</td>\n",
       "      <td>24</td>\n",
       "      <td>20000</td>\n",
       "      <td>0</td>\n",
       "      <td>0</td>\n",
       "      <td>0</td>\n",
       "      <td>689</td>\n",
       "      <td>3102</td>\n",
       "      <td>3913</td>\n",
       "      <td>...</td>\n",
       "      <td>2</td>\n",
       "      <td>0</td>\n",
       "      <td>0</td>\n",
       "      <td>0</td>\n",
       "      <td>0</td>\n",
       "      <td>1</td>\n",
       "      <td>0</td>\n",
       "      <td>1</td>\n",
       "      <td>0</td>\n",
       "      <td>0</td>\n",
       "    </tr>\n",
       "    <tr>\n",
       "      <th>1</th>\n",
       "      <td>2</td>\n",
       "      <td>0</td>\n",
       "      <td>26</td>\n",
       "      <td>120000</td>\n",
       "      <td>3261</td>\n",
       "      <td>3455</td>\n",
       "      <td>3272</td>\n",
       "      <td>2682</td>\n",
       "      <td>1725</td>\n",
       "      <td>2682</td>\n",
       "      <td>...</td>\n",
       "      <td>-1</td>\n",
       "      <td>0</td>\n",
       "      <td>0</td>\n",
       "      <td>0</td>\n",
       "      <td>0</td>\n",
       "      <td>1</td>\n",
       "      <td>0</td>\n",
       "      <td>0</td>\n",
       "      <td>1</td>\n",
       "      <td>0</td>\n",
       "    </tr>\n",
       "    <tr>\n",
       "      <th>2</th>\n",
       "      <td>3</td>\n",
       "      <td>0</td>\n",
       "      <td>34</td>\n",
       "      <td>90000</td>\n",
       "      <td>15549</td>\n",
       "      <td>14948</td>\n",
       "      <td>14331</td>\n",
       "      <td>13559</td>\n",
       "      <td>14027</td>\n",
       "      <td>29239</td>\n",
       "      <td>...</td>\n",
       "      <td>0</td>\n",
       "      <td>1</td>\n",
       "      <td>0</td>\n",
       "      <td>0</td>\n",
       "      <td>0</td>\n",
       "      <td>1</td>\n",
       "      <td>0</td>\n",
       "      <td>0</td>\n",
       "      <td>1</td>\n",
       "      <td>0</td>\n",
       "    </tr>\n",
       "    <tr>\n",
       "      <th>3</th>\n",
       "      <td>4</td>\n",
       "      <td>0</td>\n",
       "      <td>37</td>\n",
       "      <td>50000</td>\n",
       "      <td>29547</td>\n",
       "      <td>28959</td>\n",
       "      <td>28314</td>\n",
       "      <td>49291</td>\n",
       "      <td>48233</td>\n",
       "      <td>46990</td>\n",
       "      <td>...</td>\n",
       "      <td>0</td>\n",
       "      <td>1</td>\n",
       "      <td>0</td>\n",
       "      <td>0</td>\n",
       "      <td>0</td>\n",
       "      <td>1</td>\n",
       "      <td>0</td>\n",
       "      <td>1</td>\n",
       "      <td>0</td>\n",
       "      <td>0</td>\n",
       "    </tr>\n",
       "    <tr>\n",
       "      <th>4</th>\n",
       "      <td>5</td>\n",
       "      <td>1</td>\n",
       "      <td>57</td>\n",
       "      <td>50000</td>\n",
       "      <td>19131</td>\n",
       "      <td>19146</td>\n",
       "      <td>20940</td>\n",
       "      <td>35835</td>\n",
       "      <td>5670</td>\n",
       "      <td>8617</td>\n",
       "      <td>...</td>\n",
       "      <td>-1</td>\n",
       "      <td>1</td>\n",
       "      <td>0</td>\n",
       "      <td>0</td>\n",
       "      <td>0</td>\n",
       "      <td>1</td>\n",
       "      <td>0</td>\n",
       "      <td>1</td>\n",
       "      <td>0</td>\n",
       "      <td>0</td>\n",
       "    </tr>\n",
       "  </tbody>\n",
       "</table>\n",
       "<p>5 rows × 31 columns</p>\n",
       "</div>"
      ],
      "text/plain": [
       "   ID  SEX  AGE  LIMIT_BAL  bill_ap  bill_m  bill_ju  bill_jy  bill_ag  \\\n",
       "0   1    0   24      20000        0       0        0      689     3102   \n",
       "1   2    0   26     120000     3261    3455     3272     2682     1725   \n",
       "2   3    0   34      90000    15549   14948    14331    13559    14027   \n",
       "3   4    0   37      50000    29547   28959    28314    49291    48233   \n",
       "4   5    1   57      50000    19131   19146    20940    35835     5670   \n",
       "\n",
       "   bill_s  ...  pay_s  DEFAULT  edu_graduate school  edu_high school  \\\n",
       "0    3913  ...      2        0                    0                0   \n",
       "1    2682  ...     -1        0                    0                0   \n",
       "2   29239  ...      0        1                    0                0   \n",
       "3   46990  ...      0        1                    0                0   \n",
       "4    8617  ...     -1        1                    0                0   \n",
       "\n",
       "   edu_other  edu_university  mar_0  mar_1  mar_2  mar_3  \n",
       "0          0               1      0      1      0      0  \n",
       "1          0               1      0      0      1      0  \n",
       "2          0               1      0      0      1      0  \n",
       "3          0               1      0      1      0      0  \n",
       "4          0               1      0      1      0      0  \n",
       "\n",
       "[5 rows x 31 columns]"
      ]
     },
     "execution_count": 3,
     "metadata": {},
     "output_type": "execute_result"
    }
   ],
   "source": [
    "#import numerical only data\n",
    "df= pd.read_csv('num_only_credit_one_data.csv')\n",
    "\n",
    "df.head()"
   ]
  },
  {
   "cell_type": "code",
   "execution_count": 4,
   "metadata": {},
   "outputs": [
    {
     "data": {
      "text/plain": [
       "(30000, 31)"
      ]
     },
     "execution_count": 4,
     "metadata": {},
     "output_type": "execute_result"
    }
   ],
   "source": [
    "df.shape"
   ]
  },
  {
   "cell_type": "code",
   "execution_count": 5,
   "metadata": {},
   "outputs": [
    {
     "name": "stdout",
     "output_type": "stream",
     "text": [
      "<class 'pandas.core.frame.DataFrame'>\n",
      "RangeIndex: 30000 entries, 0 to 29999\n",
      "Data columns (total 31 columns):\n",
      " #   Column               Non-Null Count  Dtype\n",
      "---  ------               --------------  -----\n",
      " 0   ID                   30000 non-null  int64\n",
      " 1   SEX                  30000 non-null  int64\n",
      " 2   AGE                  30000 non-null  int64\n",
      " 3   LIMIT_BAL            30000 non-null  int64\n",
      " 4   bill_ap              30000 non-null  int64\n",
      " 5   bill_m               30000 non-null  int64\n",
      " 6   bill_ju              30000 non-null  int64\n",
      " 7   bill_jy              30000 non-null  int64\n",
      " 8   bill_ag              30000 non-null  int64\n",
      " 9   bill_s               30000 non-null  int64\n",
      " 10  pmt_ap               30000 non-null  int64\n",
      " 11  pmt_m                30000 non-null  int64\n",
      " 12  pmt_ju               30000 non-null  int64\n",
      " 13  pmt_jy               30000 non-null  int64\n",
      " 14  pmt_ag               30000 non-null  int64\n",
      " 15  pmt_s                30000 non-null  int64\n",
      " 16  pay_ap               30000 non-null  int64\n",
      " 17  pay_m                30000 non-null  int64\n",
      " 18  pay_ju               30000 non-null  int64\n",
      " 19  pay_jy               30000 non-null  int64\n",
      " 20  pay_ag               30000 non-null  int64\n",
      " 21  pay_s                30000 non-null  int64\n",
      " 22  DEFAULT              30000 non-null  int64\n",
      " 23  edu_graduate school  30000 non-null  int64\n",
      " 24  edu_high school      30000 non-null  int64\n",
      " 25  edu_other            30000 non-null  int64\n",
      " 26  edu_university       30000 non-null  int64\n",
      " 27  mar_0                30000 non-null  int64\n",
      " 28  mar_1                30000 non-null  int64\n",
      " 29  mar_2                30000 non-null  int64\n",
      " 30  mar_3                30000 non-null  int64\n",
      "dtypes: int64(31)\n",
      "memory usage: 7.1 MB\n"
     ]
    }
   ],
   "source": [
    "df.info()"
   ]
  },
  {
   "cell_type": "markdown",
   "metadata": {},
   "source": [
    "Everything with my dataset looks as I expect. So I will move on to specifying the variables I was to use as features (IVs) and the one I want to use as target for my model predicting credit limit. "
   ]
  },
  {
   "cell_type": "markdown",
   "metadata": {},
   "source": [
    "# Predicting Customer Credit Limits\n",
    "In this notebook I am only going to create and test models that attempt to predict customer credit limits. Which means the target variable in all models will be 'limit' (i.e. limit_bal)."
   ]
  },
  {
   "cell_type": "markdown",
   "metadata": {},
   "source": [
    "#### Re-ordering df Columns\n",
    "To make things easier, before doing anything I'm going to move LIMIT_BAL to the last column in my df and rename it. "
   ]
  },
  {
   "cell_type": "code",
   "execution_count": 6,
   "metadata": {},
   "outputs": [
    {
     "data": {
      "text/html": [
       "<div>\n",
       "<style scoped>\n",
       "    .dataframe tbody tr th:only-of-type {\n",
       "        vertical-align: middle;\n",
       "    }\n",
       "\n",
       "    .dataframe tbody tr th {\n",
       "        vertical-align: top;\n",
       "    }\n",
       "\n",
       "    .dataframe thead th {\n",
       "        text-align: right;\n",
       "    }\n",
       "</style>\n",
       "<table border=\"1\" class=\"dataframe\">\n",
       "  <thead>\n",
       "    <tr style=\"text-align: right;\">\n",
       "      <th></th>\n",
       "      <th>ID</th>\n",
       "      <th>SEX</th>\n",
       "      <th>AGE</th>\n",
       "      <th>bill_ap</th>\n",
       "      <th>bill_m</th>\n",
       "      <th>bill_ju</th>\n",
       "      <th>bill_jy</th>\n",
       "      <th>bill_ag</th>\n",
       "      <th>bill_s</th>\n",
       "      <th>pmt_ap</th>\n",
       "      <th>...</th>\n",
       "      <th>DEFAULT</th>\n",
       "      <th>edu_graduate school</th>\n",
       "      <th>edu_high school</th>\n",
       "      <th>edu_other</th>\n",
       "      <th>edu_university</th>\n",
       "      <th>mar_0</th>\n",
       "      <th>mar_1</th>\n",
       "      <th>mar_2</th>\n",
       "      <th>mar_3</th>\n",
       "      <th>limit</th>\n",
       "    </tr>\n",
       "  </thead>\n",
       "  <tbody>\n",
       "    <tr>\n",
       "      <th>0</th>\n",
       "      <td>1</td>\n",
       "      <td>0</td>\n",
       "      <td>24</td>\n",
       "      <td>0</td>\n",
       "      <td>0</td>\n",
       "      <td>0</td>\n",
       "      <td>689</td>\n",
       "      <td>3102</td>\n",
       "      <td>3913</td>\n",
       "      <td>0</td>\n",
       "      <td>...</td>\n",
       "      <td>0</td>\n",
       "      <td>0</td>\n",
       "      <td>0</td>\n",
       "      <td>0</td>\n",
       "      <td>1</td>\n",
       "      <td>0</td>\n",
       "      <td>1</td>\n",
       "      <td>0</td>\n",
       "      <td>0</td>\n",
       "      <td>20000</td>\n",
       "    </tr>\n",
       "    <tr>\n",
       "      <th>1</th>\n",
       "      <td>2</td>\n",
       "      <td>0</td>\n",
       "      <td>26</td>\n",
       "      <td>3261</td>\n",
       "      <td>3455</td>\n",
       "      <td>3272</td>\n",
       "      <td>2682</td>\n",
       "      <td>1725</td>\n",
       "      <td>2682</td>\n",
       "      <td>2000</td>\n",
       "      <td>...</td>\n",
       "      <td>0</td>\n",
       "      <td>0</td>\n",
       "      <td>0</td>\n",
       "      <td>0</td>\n",
       "      <td>1</td>\n",
       "      <td>0</td>\n",
       "      <td>0</td>\n",
       "      <td>1</td>\n",
       "      <td>0</td>\n",
       "      <td>120000</td>\n",
       "    </tr>\n",
       "    <tr>\n",
       "      <th>2</th>\n",
       "      <td>3</td>\n",
       "      <td>0</td>\n",
       "      <td>34</td>\n",
       "      <td>15549</td>\n",
       "      <td>14948</td>\n",
       "      <td>14331</td>\n",
       "      <td>13559</td>\n",
       "      <td>14027</td>\n",
       "      <td>29239</td>\n",
       "      <td>5000</td>\n",
       "      <td>...</td>\n",
       "      <td>1</td>\n",
       "      <td>0</td>\n",
       "      <td>0</td>\n",
       "      <td>0</td>\n",
       "      <td>1</td>\n",
       "      <td>0</td>\n",
       "      <td>0</td>\n",
       "      <td>1</td>\n",
       "      <td>0</td>\n",
       "      <td>90000</td>\n",
       "    </tr>\n",
       "    <tr>\n",
       "      <th>3</th>\n",
       "      <td>4</td>\n",
       "      <td>0</td>\n",
       "      <td>37</td>\n",
       "      <td>29547</td>\n",
       "      <td>28959</td>\n",
       "      <td>28314</td>\n",
       "      <td>49291</td>\n",
       "      <td>48233</td>\n",
       "      <td>46990</td>\n",
       "      <td>1000</td>\n",
       "      <td>...</td>\n",
       "      <td>1</td>\n",
       "      <td>0</td>\n",
       "      <td>0</td>\n",
       "      <td>0</td>\n",
       "      <td>1</td>\n",
       "      <td>0</td>\n",
       "      <td>1</td>\n",
       "      <td>0</td>\n",
       "      <td>0</td>\n",
       "      <td>50000</td>\n",
       "    </tr>\n",
       "    <tr>\n",
       "      <th>4</th>\n",
       "      <td>5</td>\n",
       "      <td>1</td>\n",
       "      <td>57</td>\n",
       "      <td>19131</td>\n",
       "      <td>19146</td>\n",
       "      <td>20940</td>\n",
       "      <td>35835</td>\n",
       "      <td>5670</td>\n",
       "      <td>8617</td>\n",
       "      <td>679</td>\n",
       "      <td>...</td>\n",
       "      <td>1</td>\n",
       "      <td>0</td>\n",
       "      <td>0</td>\n",
       "      <td>0</td>\n",
       "      <td>1</td>\n",
       "      <td>0</td>\n",
       "      <td>1</td>\n",
       "      <td>0</td>\n",
       "      <td>0</td>\n",
       "      <td>50000</td>\n",
       "    </tr>\n",
       "  </tbody>\n",
       "</table>\n",
       "<p>5 rows × 31 columns</p>\n",
       "</div>"
      ],
      "text/plain": [
       "   ID  SEX  AGE  bill_ap  bill_m  bill_ju  bill_jy  bill_ag  bill_s  pmt_ap  \\\n",
       "0   1    0   24        0       0        0      689     3102    3913       0   \n",
       "1   2    0   26     3261    3455     3272     2682     1725    2682    2000   \n",
       "2   3    0   34    15549   14948    14331    13559    14027   29239    5000   \n",
       "3   4    0   37    29547   28959    28314    49291    48233   46990    1000   \n",
       "4   5    1   57    19131   19146    20940    35835     5670    8617     679   \n",
       "\n",
       "   ...  DEFAULT  edu_graduate school  edu_high school  edu_other  \\\n",
       "0  ...        0                    0                0          0   \n",
       "1  ...        0                    0                0          0   \n",
       "2  ...        1                    0                0          0   \n",
       "3  ...        1                    0                0          0   \n",
       "4  ...        1                    0                0          0   \n",
       "\n",
       "   edu_university  mar_0  mar_1  mar_2  mar_3   limit  \n",
       "0               1      0      1      0      0   20000  \n",
       "1               1      0      0      1      0  120000  \n",
       "2               1      0      0      1      0   90000  \n",
       "3               1      0      1      0      0   50000  \n",
       "4               1      0      1      0      0   50000  \n",
       "\n",
       "[5 rows x 31 columns]"
      ]
     },
     "execution_count": 6,
     "metadata": {},
     "output_type": "execute_result"
    }
   ],
   "source": [
    "#step 1: create a variabled to hold the LIMIT_BAL var\n",
    "lim=df['LIMIT_BAL']\n",
    "\n",
    "#step 2: drop the LIMIT_BAL column\n",
    "df.drop(labels='LIMIT_BAL', axis=1, inplace=True)\n",
    "\n",
    "#step 3: insert 'lim' as last column of df\n",
    "df.insert(loc=30, column='limit', value=lim)\n",
    "\n",
    "df.head()"
   ]
  },
  {
   "cell_type": "markdown",
   "metadata": {},
   "source": [
    "### Specify the Target Variable\n",
    "Now I will specify the dependent or target variable for models attempting to predict customer credit limits. "
   ]
  },
  {
   "cell_type": "code",
   "execution_count": 28,
   "metadata": {},
   "outputs": [
    {
     "data": {
      "text/plain": [
       "0     20000\n",
       "1    120000\n",
       "2     90000\n",
       "3     50000\n",
       "4     50000\n",
       "Name: limit, dtype: int64"
      ]
     },
     "execution_count": 28,
     "metadata": {},
     "output_type": "execute_result"
    }
   ],
   "source": [
    "#filter the data to return my dependent var (the limit column)\n",
    "y = df.loc[:,'limit']\n",
    "\n",
    "#verify that the first 5 values in y match the values in the limit column above\n",
    "y.head()"
   ]
  },
  {
   "cell_type": "code",
   "execution_count": 8,
   "metadata": {},
   "outputs": [
    {
     "data": {
      "text/plain": [
       "(30000,)"
      ]
     },
     "execution_count": 8,
     "metadata": {},
     "output_type": "execute_result"
    }
   ],
   "source": [
    "#verify that y has 30,000 rows\n",
    "y.shape"
   ]
  },
  {
   "cell_type": "markdown",
   "metadata": {},
   "source": [
    "# Model 1: Predicting Credit Limit Using All Variables\n",
    "None of the variables stood out as ones that should be included or excluded from the model, so in this first model I'm going to include them all."
   ]
  },
  {
   "cell_type": "markdown",
   "metadata": {},
   "source": [
    "### Specify the Feature Variables"
   ]
  },
  {
   "cell_type": "code",
   "execution_count": 9,
   "metadata": {},
   "outputs": [
    {
     "name": "stdout",
     "output_type": "stream",
     "text": [
      "Summary of Feature Variables\n"
     ]
    },
    {
     "data": {
      "text/html": [
       "<div>\n",
       "<style scoped>\n",
       "    .dataframe tbody tr th:only-of-type {\n",
       "        vertical-align: middle;\n",
       "    }\n",
       "\n",
       "    .dataframe tbody tr th {\n",
       "        vertical-align: top;\n",
       "    }\n",
       "\n",
       "    .dataframe thead th {\n",
       "        text-align: right;\n",
       "    }\n",
       "</style>\n",
       "<table border=\"1\" class=\"dataframe\">\n",
       "  <thead>\n",
       "    <tr style=\"text-align: right;\">\n",
       "      <th></th>\n",
       "      <th>SEX</th>\n",
       "      <th>AGE</th>\n",
       "      <th>bill_ap</th>\n",
       "      <th>bill_m</th>\n",
       "      <th>bill_ju</th>\n",
       "      <th>bill_jy</th>\n",
       "      <th>bill_ag</th>\n",
       "      <th>bill_s</th>\n",
       "      <th>pmt_ap</th>\n",
       "      <th>pmt_m</th>\n",
       "      <th>...</th>\n",
       "      <th>pay_s</th>\n",
       "      <th>DEFAULT</th>\n",
       "      <th>edu_graduate school</th>\n",
       "      <th>edu_high school</th>\n",
       "      <th>edu_other</th>\n",
       "      <th>edu_university</th>\n",
       "      <th>mar_0</th>\n",
       "      <th>mar_1</th>\n",
       "      <th>mar_2</th>\n",
       "      <th>mar_3</th>\n",
       "    </tr>\n",
       "  </thead>\n",
       "  <tbody>\n",
       "    <tr>\n",
       "      <th>0</th>\n",
       "      <td>0</td>\n",
       "      <td>24</td>\n",
       "      <td>0</td>\n",
       "      <td>0</td>\n",
       "      <td>0</td>\n",
       "      <td>689</td>\n",
       "      <td>3102</td>\n",
       "      <td>3913</td>\n",
       "      <td>0</td>\n",
       "      <td>0</td>\n",
       "      <td>...</td>\n",
       "      <td>2</td>\n",
       "      <td>0</td>\n",
       "      <td>0</td>\n",
       "      <td>0</td>\n",
       "      <td>0</td>\n",
       "      <td>1</td>\n",
       "      <td>0</td>\n",
       "      <td>1</td>\n",
       "      <td>0</td>\n",
       "      <td>0</td>\n",
       "    </tr>\n",
       "    <tr>\n",
       "      <th>1</th>\n",
       "      <td>0</td>\n",
       "      <td>26</td>\n",
       "      <td>3261</td>\n",
       "      <td>3455</td>\n",
       "      <td>3272</td>\n",
       "      <td>2682</td>\n",
       "      <td>1725</td>\n",
       "      <td>2682</td>\n",
       "      <td>2000</td>\n",
       "      <td>0</td>\n",
       "      <td>...</td>\n",
       "      <td>-1</td>\n",
       "      <td>0</td>\n",
       "      <td>0</td>\n",
       "      <td>0</td>\n",
       "      <td>0</td>\n",
       "      <td>1</td>\n",
       "      <td>0</td>\n",
       "      <td>0</td>\n",
       "      <td>1</td>\n",
       "      <td>0</td>\n",
       "    </tr>\n",
       "    <tr>\n",
       "      <th>2</th>\n",
       "      <td>0</td>\n",
       "      <td>34</td>\n",
       "      <td>15549</td>\n",
       "      <td>14948</td>\n",
       "      <td>14331</td>\n",
       "      <td>13559</td>\n",
       "      <td>14027</td>\n",
       "      <td>29239</td>\n",
       "      <td>5000</td>\n",
       "      <td>1000</td>\n",
       "      <td>...</td>\n",
       "      <td>0</td>\n",
       "      <td>1</td>\n",
       "      <td>0</td>\n",
       "      <td>0</td>\n",
       "      <td>0</td>\n",
       "      <td>1</td>\n",
       "      <td>0</td>\n",
       "      <td>0</td>\n",
       "      <td>1</td>\n",
       "      <td>0</td>\n",
       "    </tr>\n",
       "    <tr>\n",
       "      <th>3</th>\n",
       "      <td>0</td>\n",
       "      <td>37</td>\n",
       "      <td>29547</td>\n",
       "      <td>28959</td>\n",
       "      <td>28314</td>\n",
       "      <td>49291</td>\n",
       "      <td>48233</td>\n",
       "      <td>46990</td>\n",
       "      <td>1000</td>\n",
       "      <td>1069</td>\n",
       "      <td>...</td>\n",
       "      <td>0</td>\n",
       "      <td>1</td>\n",
       "      <td>0</td>\n",
       "      <td>0</td>\n",
       "      <td>0</td>\n",
       "      <td>1</td>\n",
       "      <td>0</td>\n",
       "      <td>1</td>\n",
       "      <td>0</td>\n",
       "      <td>0</td>\n",
       "    </tr>\n",
       "    <tr>\n",
       "      <th>4</th>\n",
       "      <td>1</td>\n",
       "      <td>57</td>\n",
       "      <td>19131</td>\n",
       "      <td>19146</td>\n",
       "      <td>20940</td>\n",
       "      <td>35835</td>\n",
       "      <td>5670</td>\n",
       "      <td>8617</td>\n",
       "      <td>679</td>\n",
       "      <td>689</td>\n",
       "      <td>...</td>\n",
       "      <td>-1</td>\n",
       "      <td>1</td>\n",
       "      <td>0</td>\n",
       "      <td>0</td>\n",
       "      <td>0</td>\n",
       "      <td>1</td>\n",
       "      <td>0</td>\n",
       "      <td>1</td>\n",
       "      <td>0</td>\n",
       "      <td>0</td>\n",
       "    </tr>\n",
       "  </tbody>\n",
       "</table>\n",
       "<p>5 rows × 29 columns</p>\n",
       "</div>"
      ],
      "text/plain": [
       "   SEX  AGE  bill_ap  bill_m  bill_ju  bill_jy  bill_ag  bill_s  pmt_ap  \\\n",
       "0    0   24        0       0        0      689     3102    3913       0   \n",
       "1    0   26     3261    3455     3272     2682     1725    2682    2000   \n",
       "2    0   34    15549   14948    14331    13559    14027   29239    5000   \n",
       "3    0   37    29547   28959    28314    49291    48233   46990    1000   \n",
       "4    1   57    19131   19146    20940    35835     5670    8617     679   \n",
       "\n",
       "   pmt_m  ...  pay_s  DEFAULT  edu_graduate school  edu_high school  \\\n",
       "0      0  ...      2        0                    0                0   \n",
       "1      0  ...     -1        0                    0                0   \n",
       "2   1000  ...      0        1                    0                0   \n",
       "3   1069  ...      0        1                    0                0   \n",
       "4    689  ...     -1        1                    0                0   \n",
       "\n",
       "   edu_other  edu_university  mar_0  mar_1  mar_2  mar_3  \n",
       "0          0               1      0      1      0      0  \n",
       "1          0               1      0      0      1      0  \n",
       "2          0               1      0      0      1      0  \n",
       "3          0               1      0      1      0      0  \n",
       "4          0               1      0      1      0      0  \n",
       "\n",
       "[5 rows x 29 columns]"
      ]
     },
     "execution_count": 9,
     "metadata": {},
     "output_type": "execute_result"
    }
   ],
   "source": [
    "#filter the data to return only columns for my feature vars\n",
    "X = df.iloc[:, 1:30]\n",
    "\n",
    "#verify that all but the ID and limit columns were selected\n",
    "print('Summary of Feature Variables') \n",
    "X.head()"
   ]
  },
  {
   "cell_type": "markdown",
   "metadata": {},
   "source": [
    "## Train & Test Model 1 Using 3 Different Regression Algorithms\n",
    "Because credit limit is a continuous variable, I know I will have to use a regression model to predict it. But I don't have a principled reason to choose one regression algorithm over others, so I'll compare the predictions of models using Random Forest p9idifferent regression algorithms to find the one that works best on this task. \n",
    "* I will run each model through a 3-fold cross validation test. Using R squared to score the models. \n",
    "* The model with the highest mean CV sore will be labeled best."
   ]
  },
  {
   "cell_type": "markdown",
   "metadata": {},
   "source": [
    "### Setup"
   ]
  },
  {
   "cell_type": "code",
   "execution_count": 10,
   "metadata": {},
   "outputs": [
    {
     "name": "stdout",
     "output_type": "stream",
     "text": [
      "[('Random Forest Regressor', RandomForestRegressor()), ('Linear Regression', LinearRegression()), ('Support Vector Regression', SVR())]\n"
     ]
    }
   ],
   "source": [
    "#create a dictionary to hold the algos\n",
    "algosClass = [ ]\n",
    "\n",
    "#add the randomn forest regressor to the dictionary\n",
    "algosClass.append(('Random Forest Regressor',RandomForestRegressor()))\n",
    "\n",
    "#add the liner regression algo to the dictionary\n",
    "algosClass.append(('Linear Regression',LinearRegression()))\n",
    "\n",
    "#add the SV regressor to the dictionary\n",
    "algosClass.append(('Support Vector Regression',SVR()))\n",
    "\n",
    "#verify every algo was added to the list\n",
    "print(algosClass)"
   ]
  },
  {
   "cell_type": "markdown",
   "metadata": {},
   "source": [
    "### Train & Test Models"
   ]
  },
  {
   "cell_type": "code",
   "execution_count": 11,
   "metadata": {},
   "outputs": [],
   "source": [
    "#create two empty lists to hold the names and cross validation results from each model\n",
    "results = []\n",
    "names = []\n",
    "\n",
    "#create a for-loop that will\n",
    "for name, model in algosClass:\n",
    "    result = cross_val_score(model, X,y, cv=3, scoring='r2')\n",
    "    names.append(name)\n",
    "    results.append(result)"
   ]
  },
  {
   "cell_type": "markdown",
   "metadata": {},
   "source": [
    "### Performance Results"
   ]
  },
  {
   "cell_type": "code",
   "execution_count": 12,
   "metadata": {},
   "outputs": [
    {
     "name": "stdout",
     "output_type": "stream",
     "text": [
      "Random Forest Regressor 0.46700202592747336\n",
      "Linear Regression 0.35871695390197167\n",
      "Support Vector Regression -0.05039128320492573\n"
     ]
    }
   ],
   "source": [
    "#run the for loop and print the mean cross validation score for each model\n",
    "for i in range(len(names)):\n",
    "    print(names[i],results[i].mean())"
   ]
  },
  {
   "cell_type": "markdown",
   "metadata": {},
   "source": [
    "The model built using the random forest regressor performed somewhat less badly than the other two models. However, even the randomn forest model does little better than chance at predicting customer's credit limits (i.e.limit_bal). "
   ]
  },
  {
   "cell_type": "markdown",
   "metadata": {},
   "source": [
    "# Credit Limit Model 2: Excluding the Demographic Variables "
   ]
  },
  {
   "cell_type": "markdown",
   "metadata": {},
   "source": [
    "## Select the Feature Variables"
   ]
  },
  {
   "cell_type": "code",
   "execution_count": 20,
   "metadata": {},
   "outputs": [
    {
     "name": "stdout",
     "output_type": "stream",
     "text": [
      "Summary of Features for Model 2\n"
     ]
    },
    {
     "data": {
      "text/html": [
       "<div>\n",
       "<style scoped>\n",
       "    .dataframe tbody tr th:only-of-type {\n",
       "        vertical-align: middle;\n",
       "    }\n",
       "\n",
       "    .dataframe tbody tr th {\n",
       "        vertical-align: top;\n",
       "    }\n",
       "\n",
       "    .dataframe thead th {\n",
       "        text-align: right;\n",
       "    }\n",
       "</style>\n",
       "<table border=\"1\" class=\"dataframe\">\n",
       "  <thead>\n",
       "    <tr style=\"text-align: right;\">\n",
       "      <th></th>\n",
       "      <th>bill_ap</th>\n",
       "      <th>bill_m</th>\n",
       "      <th>bill_ju</th>\n",
       "      <th>bill_jy</th>\n",
       "      <th>bill_ag</th>\n",
       "      <th>bill_s</th>\n",
       "      <th>pmt_ap</th>\n",
       "      <th>pmt_m</th>\n",
       "      <th>pmt_ju</th>\n",
       "      <th>pmt_jy</th>\n",
       "      <th>pmt_ag</th>\n",
       "      <th>pmt_s</th>\n",
       "      <th>pay_ap</th>\n",
       "      <th>pay_m</th>\n",
       "      <th>pay_ju</th>\n",
       "      <th>pay_jy</th>\n",
       "      <th>pay_ag</th>\n",
       "      <th>pay_s</th>\n",
       "      <th>DEFAULT</th>\n",
       "    </tr>\n",
       "  </thead>\n",
       "  <tbody>\n",
       "    <tr>\n",
       "      <th>0</th>\n",
       "      <td>0</td>\n",
       "      <td>0</td>\n",
       "      <td>0</td>\n",
       "      <td>689</td>\n",
       "      <td>3102</td>\n",
       "      <td>3913</td>\n",
       "      <td>0</td>\n",
       "      <td>0</td>\n",
       "      <td>0</td>\n",
       "      <td>0</td>\n",
       "      <td>689</td>\n",
       "      <td>0</td>\n",
       "      <td>-2</td>\n",
       "      <td>-2</td>\n",
       "      <td>-1</td>\n",
       "      <td>-1</td>\n",
       "      <td>2</td>\n",
       "      <td>2</td>\n",
       "      <td>0</td>\n",
       "    </tr>\n",
       "    <tr>\n",
       "      <th>1</th>\n",
       "      <td>3261</td>\n",
       "      <td>3455</td>\n",
       "      <td>3272</td>\n",
       "      <td>2682</td>\n",
       "      <td>1725</td>\n",
       "      <td>2682</td>\n",
       "      <td>2000</td>\n",
       "      <td>0</td>\n",
       "      <td>1000</td>\n",
       "      <td>1000</td>\n",
       "      <td>1000</td>\n",
       "      <td>0</td>\n",
       "      <td>2</td>\n",
       "      <td>0</td>\n",
       "      <td>0</td>\n",
       "      <td>0</td>\n",
       "      <td>2</td>\n",
       "      <td>-1</td>\n",
       "      <td>0</td>\n",
       "    </tr>\n",
       "    <tr>\n",
       "      <th>2</th>\n",
       "      <td>15549</td>\n",
       "      <td>14948</td>\n",
       "      <td>14331</td>\n",
       "      <td>13559</td>\n",
       "      <td>14027</td>\n",
       "      <td>29239</td>\n",
       "      <td>5000</td>\n",
       "      <td>1000</td>\n",
       "      <td>1000</td>\n",
       "      <td>1000</td>\n",
       "      <td>1500</td>\n",
       "      <td>1518</td>\n",
       "      <td>0</td>\n",
       "      <td>0</td>\n",
       "      <td>0</td>\n",
       "      <td>0</td>\n",
       "      <td>0</td>\n",
       "      <td>0</td>\n",
       "      <td>1</td>\n",
       "    </tr>\n",
       "    <tr>\n",
       "      <th>3</th>\n",
       "      <td>29547</td>\n",
       "      <td>28959</td>\n",
       "      <td>28314</td>\n",
       "      <td>49291</td>\n",
       "      <td>48233</td>\n",
       "      <td>46990</td>\n",
       "      <td>1000</td>\n",
       "      <td>1069</td>\n",
       "      <td>1100</td>\n",
       "      <td>1200</td>\n",
       "      <td>2019</td>\n",
       "      <td>2000</td>\n",
       "      <td>0</td>\n",
       "      <td>0</td>\n",
       "      <td>0</td>\n",
       "      <td>0</td>\n",
       "      <td>0</td>\n",
       "      <td>0</td>\n",
       "      <td>1</td>\n",
       "    </tr>\n",
       "    <tr>\n",
       "      <th>4</th>\n",
       "      <td>19131</td>\n",
       "      <td>19146</td>\n",
       "      <td>20940</td>\n",
       "      <td>35835</td>\n",
       "      <td>5670</td>\n",
       "      <td>8617</td>\n",
       "      <td>679</td>\n",
       "      <td>689</td>\n",
       "      <td>9000</td>\n",
       "      <td>10000</td>\n",
       "      <td>36681</td>\n",
       "      <td>2000</td>\n",
       "      <td>0</td>\n",
       "      <td>0</td>\n",
       "      <td>0</td>\n",
       "      <td>-1</td>\n",
       "      <td>0</td>\n",
       "      <td>-1</td>\n",
       "      <td>1</td>\n",
       "    </tr>\n",
       "  </tbody>\n",
       "</table>\n",
       "</div>"
      ],
      "text/plain": [
       "   bill_ap  bill_m  bill_ju  bill_jy  bill_ag  bill_s  pmt_ap  pmt_m  pmt_ju  \\\n",
       "0        0       0        0      689     3102    3913       0      0       0   \n",
       "1     3261    3455     3272     2682     1725    2682    2000      0    1000   \n",
       "2    15549   14948    14331    13559    14027   29239    5000   1000    1000   \n",
       "3    29547   28959    28314    49291    48233   46990    1000   1069    1100   \n",
       "4    19131   19146    20940    35835     5670    8617     679    689    9000   \n",
       "\n",
       "   pmt_jy  pmt_ag  pmt_s  pay_ap  pay_m  pay_ju  pay_jy  pay_ag  pay_s  \\\n",
       "0       0     689      0      -2     -2      -1      -1       2      2   \n",
       "1    1000    1000      0       2      0       0       0       2     -1   \n",
       "2    1000    1500   1518       0      0       0       0       0      0   \n",
       "3    1200    2019   2000       0      0       0       0       0      0   \n",
       "4   10000   36681   2000       0      0       0      -1       0     -1   \n",
       "\n",
       "   DEFAULT  \n",
       "0        0  \n",
       "1        0  \n",
       "2        1  \n",
       "3        1  \n",
       "4        1  "
      ]
     },
     "execution_count": 20,
     "metadata": {},
     "output_type": "execute_result"
    }
   ],
   "source": [
    "#filter the data to return only columns for bill amount, payment amount, payment history, and default var\n",
    "X2 = df.iloc[:, 3:22]\n",
    "\n",
    "print('Summary of Model 2 Features')\n",
    "X2.head()"
   ]
  },
  {
   "cell_type": "code",
   "execution_count": 23,
   "metadata": {},
   "outputs": [],
   "source": [
    "#create two empty lists to hold the names and cross validation results from each model\n",
    "results2 = []\n",
    "names2 = []\n",
    "\n",
    "#get cross validation scores for model 2 \n",
    "for name, model in algosClass:\n",
    "    result = cross_val_score(model, X2,y, cv=3, scoring='r2')\n",
    "    names2.append(name)\n",
    "    results2.append(result)"
   ]
  },
  {
   "cell_type": "code",
   "execution_count": 27,
   "metadata": {},
   "outputs": [
    {
     "name": "stdout",
     "output_type": "stream",
     "text": [
      "Summary of Model2 Cross Validation Scores\n",
      "Random Forest Regressor 0.46700202592747336\n",
      "Linear Regression 0.35871695390197167\n",
      "Support Vector Regression -0.05039128320492573\n"
     ]
    }
   ],
   "source": [
    "#run the for loop and print the mean cross validation score for each model\n",
    "print(\"Summary of Model2 Cross Validation Scores\")\n",
    "\n",
    "for i in range(len(names2)):\n",
    "    print(names[i],results[i].mean())"
   ]
  },
  {
   "cell_type": "markdown",
   "metadata": {},
   "source": [
    "## Train & Test the Model"
   ]
  },
  {
   "cell_type": "code",
   "execution_count": 14,
   "metadata": {},
   "outputs": [],
   "source": [
    "#instantiate the random forest regression algo\n",
    "# rfr = RandomForestRegressor()"
   ]
  },
  {
   "cell_type": "code",
   "execution_count": 15,
   "metadata": {},
   "outputs": [
    {
     "ename": "NameError",
     "evalue": "name 'X_train' is not defined",
     "output_type": "error",
     "traceback": [
      "\u001b[1;31m---------------------------------------------------------------------------\u001b[0m",
      "\u001b[1;31mNameError\u001b[0m                                 Traceback (most recent call last)",
      "\u001b[1;32m<ipython-input-15-966390a2adc9>\u001b[0m in \u001b[0;36m<module>\u001b[1;34m\u001b[0m\n\u001b[0;32m      1\u001b[0m \u001b[1;31m#train the rfr model on X_train and y_train\u001b[0m\u001b[1;33m\u001b[0m\u001b[1;33m\u001b[0m\u001b[1;33m\u001b[0m\u001b[0m\n\u001b[1;32m----> 2\u001b[1;33m \u001b[0mmodel\u001b[0m \u001b[1;33m=\u001b[0m \u001b[0mrfr\u001b[0m\u001b[1;33m.\u001b[0m\u001b[0mfit\u001b[0m\u001b[1;33m(\u001b[0m\u001b[0mX_train\u001b[0m\u001b[1;33m,\u001b[0m \u001b[0my_train\u001b[0m\u001b[1;33m)\u001b[0m\u001b[1;33m\u001b[0m\u001b[1;33m\u001b[0m\u001b[0m\n\u001b[0m\u001b[0;32m      3\u001b[0m \u001b[1;33m\u001b[0m\u001b[0m\n\u001b[0;32m      4\u001b[0m \u001b[1;31m#use trained model to predict credit limit amounts for the X_test data\u001b[0m\u001b[1;33m\u001b[0m\u001b[1;33m\u001b[0m\u001b[1;33m\u001b[0m\u001b[0m\n\u001b[0;32m      5\u001b[0m \u001b[0my_predict\u001b[0m \u001b[1;33m=\u001b[0m \u001b[0mmodel_1\u001b[0m\u001b[1;33m.\u001b[0m\u001b[0mpredict\u001b[0m\u001b[1;33m(\u001b[0m\u001b[0mX_test\u001b[0m\u001b[1;33m)\u001b[0m\u001b[1;33m\u001b[0m\u001b[1;33m\u001b[0m\u001b[0m\n",
      "\u001b[1;31mNameError\u001b[0m: name 'X_train' is not defined"
     ]
    }
   ],
   "source": [
    "#train the rfr model on X_train and y_train\n",
    "# model = rfr.fit(X_train, y_train)\n",
    "\n",
    "#use trained model to predict credit limit amounts for the X_test data\n",
    "# y_predict = model_1.predict(X_test)"
   ]
  },
  {
   "cell_type": "markdown",
   "metadata": {},
   "source": [
    "## Split Data into Training and Testing Sets"
   ]
  },
  {
   "cell_type": "code",
   "execution_count": null,
   "metadata": {},
   "outputs": [],
   "source": [
    "X_train, X_test, y_train, y_test = train_test_split(X, y, test_size = 0.2, random_state=123)"
   ]
  },
  {
   "cell_type": "markdown",
   "metadata": {},
   "source": [
    ">*Coding Notes*\n",
    ">* The ```test_size =``` parameter specifies what percent of you dataset will be used for training and training. If you don't specify an amount, the default is 0.25.\n",
    ">* The ```random_state =``` parameter can be set to any number. The purpose of it is to make sure that every time the model is run,  the same observations are used in the training and testing sets. If this parameter is not included, every time you run the model it may select a slightly different set of observations."
   ]
  },
  {
   "cell_type": "code",
   "execution_count": null,
   "metadata": {},
   "outputs": [],
   "source": [
    "cross_val_score(rfr, X, y, cv=3)"
   ]
  },
  {
   "cell_type": "code",
   "execution_count": null,
   "metadata": {},
   "outputs": [],
   "source": [
    "r2_score(y_test, y_predict)"
   ]
  },
  {
   "cell_type": "code",
   "execution_count": null,
   "metadata": {},
   "outputs": [],
   "source": [
    "mean_squared_error(y_test, y_predict)"
   ]
  },
  {
   "cell_type": "code",
   "execution_count": null,
   "metadata": {},
   "outputs": [],
   "source": []
  }
 ],
 "metadata": {
  "kernelspec": {
   "display_name": "course1-env",
   "language": "python",
   "name": "course1-env"
  },
  "language_info": {
   "codemirror_mode": {
    "name": "ipython",
    "version": 3
   },
   "file_extension": ".py",
   "mimetype": "text/x-python",
   "name": "python",
   "nbconvert_exporter": "python",
   "pygments_lexer": "ipython3",
   "version": "3.8.5"
  },
  "toc-autonumbering": true
 },
 "nbformat": 4,
 "nbformat_minor": 4
}
